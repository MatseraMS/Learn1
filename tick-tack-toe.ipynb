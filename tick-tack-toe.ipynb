{
 "cells": [
  {
   "cell_type": "markdown",
   "source": [
    "## Приветствие"
   ],
   "metadata": {}
  },
  {
   "cell_type": "code",
   "execution_count": 1,
   "source": [
    "def greet():\r\n",
    "    print(\"-------------------\")\r\n",
    "    print(\"  Приветсвуем вас  \")\r\n",
    "    print(\"      в игре       \")\r\n",
    "    print(\"  крестики-нолики  \")\r\n",
    "    print(\"-------------------\")\r\n",
    "    print(\" формат ввода: x y \")\r\n",
    "    print(\" x - номер строки  \")\r\n",
    "    print(\" y - номер столбца \")\r\n",
    "\r\n",
    "greet()"
   ],
   "outputs": [
    {
     "output_type": "stream",
     "name": "stdout",
     "text": [
      "-------------------\n",
      "  Приветсвуем вас  \n",
      "      в игре       \n",
      "  крестики-нолики  \n",
      "-------------------\n",
      " формат ввода: x y \n",
      " x - номер строки  \n",
      " y - номер столбца \n"
     ]
    }
   ],
   "metadata": {}
  },
  {
   "cell_type": "markdown",
   "source": [
    "## Создаём поле"
   ],
   "metadata": {}
  },
  {
   "cell_type": "code",
   "execution_count": 2,
   "source": [
    "#field = [[\" \" for j in range(3)] for i in range(3)]\r\n",
    "field = [[\" \"] *3] *3"
   ],
   "outputs": [],
   "metadata": {}
  },
  {
   "cell_type": "markdown",
   "source": [
    "## Выводим поле на экран"
   ],
   "metadata": {}
  },
  {
   "cell_type": "code",
   "execution_count": 3,
   "source": [
    "def show():\r\n",
    "    print()\r\n",
    "    print(\"    | 0 | 1 | 2 | \")\r\n",
    "    print(\"  --------------- \")\r\n",
    "    for i, row in enumerate(field):\r\n",
    "        row_str = f\"  {i} | {' | '.join(row)} | \"\r\n",
    "        print(row_str)\r\n",
    "        print(\"  --------------- \")\r\n",
    "    print()\r\n",
    "\r\n",
    "show()"
   ],
   "outputs": [
    {
     "output_type": "stream",
     "name": "stdout",
     "text": [
      "\n",
      "    | 0 | 1 | 2 | \n",
      "  --------------- \n",
      "  0 |   |   |   | \n",
      "  --------------- \n",
      "  1 |   |   |   | \n",
      "  --------------- \n",
      "  2 |   |   |   | \n",
      "  --------------- \n",
      "\n"
     ]
    }
   ],
   "metadata": {}
  },
  {
   "cell_type": "markdown",
   "source": [
    "## Спрашиваем координаты у пользователя"
   ],
   "metadata": {}
  },
  {
   "cell_type": "markdown",
   "source": [
    "#### Проверки на попадание в область, ввод символов и занятой клетки"
   ],
   "metadata": {}
  },
  {
   "cell_type": "code",
   "execution_count": 4,
   "source": [
    "def ask():\r\n",
    "    while True:\r\n",
    "        cords = input(\"         Ваш ход: \").split()\r\n",
    "        \r\n",
    "        if len(cords) != 2:\r\n",
    "            print(\" Введите 2 координаты! \")\r\n",
    "            continue\r\n",
    "        \r\n",
    "        x, y = cords\r\n",
    "        \r\n",
    "        if not(x.isdigit()) or not(y.isdigit()):\r\n",
    "            print(\" Введите числа! \")\r\n",
    "            continue\r\n",
    "        \r\n",
    "        x, y = int(x), int(y)\r\n",
    "        \r\n",
    "        if 0 > x or x > 2 or  0 > y or  y > 2 :\r\n",
    "            print(\" Координаты вне диапазона! \")\r\n",
    "            continue\r\n",
    "        \r\n",
    "        if field[x][y] != \" \":\r\n",
    "            print(\" Клетка занята! \")\r\n",
    "            continue\r\n",
    "        \r\n",
    "        return x, y"
   ],
   "outputs": [],
   "metadata": {}
  },
  {
   "cell_type": "markdown",
   "source": [
    "#### Проверка выигрышных комбинаций"
   ],
   "metadata": {}
  },
  {
   "cell_type": "code",
   "execution_count": 5,
   "source": [
    "def check_win():\r\n",
    "    win_cord = (((0, 0), (0, 1), (0, 2)), ((1, 0), (1, 1), (1, 2)), ((2, 0), (2, 1), (2, 2)),\r\n",
    "                ((0, 2), (1, 1), (2, 0)), ((0, 0), (1, 1), (2, 2)), ((0, 0), (1, 0), (2, 0)),\r\n",
    "                ((0, 1), (1, 1), (2, 1)), ((0, 2), (1, 2), (2, 2)))\r\n",
    "    for cord in win_cord:\r\n",
    "        symbols = []\r\n",
    "        for c in cord:\r\n",
    "            symbols.append(field[c[0]][c[1]])\r\n",
    "        if symbols == [\"X\", \"X\", \"X\"]:\r\n",
    "            print(\"Выиграл X!!!\")\r\n",
    "            return True\r\n",
    "        if symbols == [\"0\", \"0\", \"0\"]:\r\n",
    "            print(\"Выиграл 0!!!\")\r\n",
    "            return True\r\n",
    "    return False\r\n",
    "\r\n",
    "field = [\r\n",
    "    [\" \", \"X\", \" \"],\r\n",
    "    [\" \", \"X\", \" \"],\r\n",
    "    [\" \", \"X\", \" \"]\r\n",
    "]\r\n",
    "\r\n",
    "check_win()"
   ],
   "outputs": [
    {
     "output_type": "stream",
     "name": "stdout",
     "text": [
      "Выиграл X!!!\n"
     ]
    },
    {
     "output_type": "execute_result",
     "data": {
      "text/plain": [
       "True"
      ]
     },
     "metadata": {},
     "execution_count": 5
    }
   ],
   "metadata": {}
  },
  {
   "cell_type": "markdown",
   "source": [
    "## Игровой цикл"
   ],
   "metadata": {}
  },
  {
   "cell_type": "code",
   "execution_count": 6,
   "source": [
    "greet()\r\n",
    "field = [[\" \"] * 3 for i in range(3) ]\r\n",
    "count = 0\r\n",
    "while True:\r\n",
    "    count += 1\r\n",
    "    show()\r\n",
    "    if count % 2 == 1:\r\n",
    "        print(\" Ходит крестик!\")\r\n",
    "    else:\r\n",
    "        print(\" Ходит нолик!\")\r\n",
    "    \r\n",
    "    x, y = ask()\r\n",
    "    \r\n",
    "    if count % 2 == 1:\r\n",
    "        field[x][y] = \"X\"\r\n",
    "    else:\r\n",
    "        field[x][y] = \"0\"\r\n",
    "    \r\n",
    "    if check_win():\r\n",
    "        break\r\n",
    "    \r\n",
    "    if count == 9:\r\n",
    "        print(\" Ничья!\")\r\n",
    "        break\r\n",
    "show()"
   ],
   "outputs": [
    {
     "output_type": "stream",
     "name": "stdout",
     "text": [
      "-------------------\n",
      "  Приветсвуем вас  \n",
      "      в игре       \n",
      "  крестики-нолики  \n",
      "-------------------\n",
      " формат ввода: x y \n",
      " x - номер строки  \n",
      " y - номер столбца \n",
      "\n",
      "    | 0 | 1 | 2 | \n",
      "  --------------- \n",
      "  0 |   |   |   | \n",
      "  --------------- \n",
      "  1 |   |   |   | \n",
      "  --------------- \n",
      "  2 |   |   |   | \n",
      "  --------------- \n",
      "\n",
      " Ходит крестик!\n",
      "\n",
      "    | 0 | 1 | 2 | \n",
      "  --------------- \n",
      "  0 |   | X |   | \n",
      "  --------------- \n",
      "  1 |   |   |   | \n",
      "  --------------- \n",
      "  2 |   |   |   | \n",
      "  --------------- \n",
      "\n",
      " Ходит нолик!\n",
      "\n",
      "    | 0 | 1 | 2 | \n",
      "  --------------- \n",
      "  0 | 0 | X |   | \n",
      "  --------------- \n",
      "  1 |   |   |   | \n",
      "  --------------- \n",
      "  2 |   |   |   | \n",
      "  --------------- \n",
      "\n",
      " Ходит крестик!\n",
      "\n",
      "    | 0 | 1 | 2 | \n",
      "  --------------- \n",
      "  0 | 0 | X |   | \n",
      "  --------------- \n",
      "  1 |   |   |   | \n",
      "  --------------- \n",
      "  2 |   | X |   | \n",
      "  --------------- \n",
      "\n",
      " Ходит нолик!\n",
      "\n",
      "    | 0 | 1 | 2 | \n",
      "  --------------- \n",
      "  0 | 0 | X |   | \n",
      "  --------------- \n",
      "  1 |   | 0 |   | \n",
      "  --------------- \n",
      "  2 |   | X |   | \n",
      "  --------------- \n",
      "\n",
      " Ходит крестик!\n",
      "\n",
      "    | 0 | 1 | 2 | \n",
      "  --------------- \n",
      "  0 | 0 | X |   | \n",
      "  --------------- \n",
      "  1 |   | 0 | X | \n",
      "  --------------- \n",
      "  2 |   | X |   | \n",
      "  --------------- \n",
      "\n",
      " Ходит нолик!\n",
      "Выиграл 0!!!\n",
      "\n",
      "    | 0 | 1 | 2 | \n",
      "  --------------- \n",
      "  0 | 0 | X |   | \n",
      "  --------------- \n",
      "  1 |   | 0 | X | \n",
      "  --------------- \n",
      "  2 |   | X | 0 | \n",
      "  --------------- \n",
      "\n"
     ]
    }
   ],
   "metadata": {}
  }
 ],
 "metadata": {
  "orig_nbformat": 4,
  "language_info": {
   "name": "python",
   "version": "3.8.8",
   "mimetype": "text/x-python",
   "codemirror_mode": {
    "name": "ipython",
    "version": 3
   },
   "pygments_lexer": "ipython3",
   "nbconvert_exporter": "python",
   "file_extension": ".py"
  },
  "kernelspec": {
   "name": "python3",
   "display_name": "Python 3.8.8 64-bit ('base': conda)"
  },
  "interpreter": {
   "hash": "9e49e9e5b94ffbcf92b38e6bbae369d81093e2039295ffe956729ef7e2f8d3e1"
  }
 },
 "nbformat": 4,
 "nbformat_minor": 2
}